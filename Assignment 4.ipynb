{
 "cells": [
  {
   "cell_type": "code",
   "execution_count": 1,
   "metadata": {},
   "outputs": [],
   "source": [
    "#  1.1 Write a Python Program(with class concepts) to find the area of triangle using the below formula.\n",
    "#      area = (s*(s-a)*(s-b)*(s-c))**0.5\n",
    "#      Function to take the length of the sides of triangle from user should be defined in the parent class\n",
    "#      and function to calculate the area should be defined in subclass."
   ]
  },
  {
   "cell_type": "code",
   "execution_count": 21,
   "metadata": {},
   "outputs": [
    {
     "name": "stdout",
     "output_type": "stream",
     "text": [
      "Enter the value of a : 5\n",
      "Enter the value of b : 6\n",
      "Enter the value of c : 7\n",
      "Area of Triangle is :  14.697cm²\n"
     ]
    }
   ],
   "source": [
    "class Triangle:\n",
    "    def __init__(s):\n",
    "        \n",
    "        s.a = float(input(\"Enter the value of a : \"))\n",
    "        s.b = float(input(\"Enter the value of b : \"))\n",
    "        s.c = float(input(\"Enter the value of c : \"))\n",
    "        \n",
    "class Area(Triangle):\n",
    "    def getArea(s):\n",
    "        sides = (s.a + s.b + s.c) / 2\n",
    "        area = (sides * (sides - s.a) * (sides - s.b) * (sides - s.c)) ** 0.5\n",
    "        print(f\"Area of Triangle is : {area : .3f}cm\\u00b2\")\n",
    "        \n",
    "a = Area()\n",
    "a.getArea()"
   ]
  },
  {
   "cell_type": "code",
   "execution_count": 39,
   "metadata": {},
   "outputs": [
    {
     "name": "stdout",
     "output_type": "stream",
     "text": [
      "Enter the First side of Triangle: 4\n",
      "Enter the Second side of Triangle: 5\n",
      "Enter the Third side of Triangle: 6\n"
     ]
    },
    {
     "data": {
      "text/plain": [
       "'Area of Triangle is :  9.922cm²'"
      ]
     },
     "execution_count": 39,
     "metadata": {},
     "output_type": "execute_result"
    }
   ],
   "source": [
    "class Length_of_Sides:\n",
    "    def __init__(s):\n",
    "        s.s1 = int (input(\"Enter the First side of Triangle: \"))\n",
    "        s.s2 = int (input(\"Enter the Second side of Triangle: \"))\n",
    "        s.s3 = int (input(\"Enter the Third side of Triangle: \"))\n",
    "        \n",
    "class Triangle(Length_of_Sides):\n",
    "    def get_area(s):\n",
    "        sides = (s.s1 + s.s2 + s.s3)/2\n",
    "        area =  (sides * (sides - s.s1) * (sides - s.s2) * (sides - s.s3)) ** 0.5\n",
    "        return (f\"Area of Triangle is : {area : .3f}cm\\u00b2\")\n",
    "    \n",
    "t = Triangle()\n",
    "t.get_area()"
   ]
  },
  {
   "cell_type": "code",
   "execution_count": 1,
   "metadata": {},
   "outputs": [],
   "source": [
    "# 2.2 Write a python function which takes a character (i.e a string of length 1) and returns True if it is a vowel,\n",
    "#     False otherwise. "
   ]
  },
  {
   "cell_type": "code",
   "execution_count": 53,
   "metadata": {},
   "outputs": [
    {
     "name": "stdout",
     "output_type": "stream",
     "text": [
      "Enter char: f\n",
      "False\n"
     ]
    }
   ],
   "source": [
    "#  Ask User input\n",
    "def vowel(ch = input(\"Enter char: \")):\n",
    "    vowels = ('a','e','i','o','u','A','E','I','O','U')\n",
    "    return ch in vowels\n",
    "print(vowel())  \n",
    "\n"
   ]
  },
  {
   "cell_type": "code",
   "execution_count": 52,
   "metadata": {},
   "outputs": [
    {
     "name": "stdout",
     "output_type": "stream",
     "text": [
      "False\n",
      "True\n"
     ]
    }
   ],
   "source": [
    "def vowel(ch):\n",
    "    vowels = ('a','e','i','o','u','A','E','I','O','U')\n",
    "    return ch in vowels\n",
    "print(vowel('g'))\n",
    "print(vowel('i'))"
   ]
  },
  {
   "cell_type": "code",
   "execution_count": 54,
   "metadata": {},
   "outputs": [],
   "source": [
    "# 2.1 Write a python program using function concept that maps the list of words into a list of integers representing\n",
    "#     the length of the corresponding words.\n",
    "#     Hint : if a list [ab,cde,erty] is passed on to the python function output should come as [2,3,4]. Here 2, 3 and\n",
    "#     4 are the lengths of the words in the list."
   ]
  },
  {
   "cell_type": "code",
   "execution_count": 61,
   "metadata": {},
   "outputs": [
    {
     "name": "stdout",
     "output_type": "stream",
     "text": [
      "Length of Words are: [7, 4, 6, 10]\n"
     ]
    }
   ],
   "source": [
    "def length_of_Words(l):\n",
    "    return list(map(lambda x :len(x), l))\n",
    "l = ['ineuron', 'MLDL', 'python', 'dictionary']\n",
    "print(\"Length of Words are: \"+ str(length_of_Words(l)))"
   ]
  },
  {
   "cell_type": "code",
   "execution_count": 68,
   "metadata": {},
   "outputs": [],
   "source": [
    "#  1.2 Write a function filter_long_words() that takes a list of words and an integer n and returns\n",
    "#      the list of words that are longer than n"
   ]
  },
  {
   "cell_type": "code",
   "execution_count": 2,
   "metadata": {},
   "outputs": [
    {
     "name": "stdout",
     "output_type": "stream",
     "text": [
      "['iNeuron', 'place', 'learning', 'Science']\n"
     ]
    }
   ],
   "source": [
    "def filter_long_words(str, n):\n",
    "    length = []\n",
    "    text = str.split(\" \")\n",
    "    for i in text:\n",
    "        if len(i)> n:\n",
    "            length.append(i)\n",
    "    return length\n",
    "print(filter_long_words('iNeuron is the best place for learning Data Science', 4))\n"
   ]
  }
 ],
 "metadata": {
  "kernelspec": {
   "display_name": "Python 3",
   "language": "python",
   "name": "python3"
  },
  "language_info": {
   "codemirror_mode": {
    "name": "ipython",
    "version": 3
   },
   "file_extension": ".py",
   "mimetype": "text/x-python",
   "name": "python",
   "nbconvert_exporter": "python",
   "pygments_lexer": "ipython3",
   "version": "3.8.3"
  }
 },
 "nbformat": 4,
 "nbformat_minor": 4
}
